{
 "cells": [
  {
   "cell_type": "code",
   "execution_count": 6,
   "id": "290d5d2b-9cdc-4e3f-9f14-896d71f66e3f",
   "metadata": {},
   "outputs": [],
   "source": [
    "with open(\"Day1.txt\") as file:\n",
    "    file = file.readlines()"
   ]
  },
  {
   "cell_type": "code",
   "execution_count": 30,
   "id": "43b51605-06a9-4e3d-85c9-e8038a318cdb",
   "metadata": {
    "tags": []
   },
   "outputs": [
    {
     "name": "stdout",
     "output_type": "stream",
     "text": [
      "1795\n",
      "1797\n",
      "1799\n",
      "1803\n",
      "6595\n",
      "74\n"
     ]
    }
   ],
   "source": [
    "floor = 0\n",
    "\n",
    "for count, i in enumerate(file[0]):\n",
    "    if i == \")\":\n",
    "        floor -= 1\n",
    "    elif i == \"(\":\n",
    "        floor += 1\n",
    "        \n",
    "    if floor == -1:\n",
    "        print(count+1)\n",
    "        \n",
    "print(floor)"
   ]
  },
  {
   "cell_type": "code",
   "execution_count": null,
   "id": "b31cd0d6-3274-42a3-a6eb-32a2ef19c8ac",
   "metadata": {},
   "outputs": [],
   "source": []
  }
 ],
 "metadata": {
  "kernelspec": {
   "display_name": "Python 3 (ipykernel)",
   "language": "python",
   "name": "python3"
  },
  "language_info": {
   "codemirror_mode": {
    "name": "ipython",
    "version": 3
   },
   "file_extension": ".py",
   "mimetype": "text/x-python",
   "name": "python",
   "nbconvert_exporter": "python",
   "pygments_lexer": "ipython3",
   "version": "3.10.9"
  }
 },
 "nbformat": 4,
 "nbformat_minor": 5
}
