{
 "cells": [
  {
   "cell_type": "code",
   "execution_count": 1,
   "id": "f7f36e65-e041-4b1c-a093-d78637690487",
   "metadata": {},
   "outputs": [],
   "source": [
    "with open(\"Day2.txt\") as file:\n",
    "    file = file.readlines()"
   ]
  },
  {
   "cell_type": "code",
   "execution_count": 2,
   "id": "94035b4a-63c3-454d-8e7f-abe4457c3072",
   "metadata": {},
   "outputs": [],
   "source": [
    "def paper_per_present(measure):\n",
    "    \n",
    "    measure = measure.replace(\"\\n\", \"\")\n",
    "    \n",
    "    l, w, h =  [float(i) for i in measure.split(\"x\")]\n",
    "    sides = [l * w, w * h, h * l]\n",
    "    \n",
    "    surface_area = sum([2*i for i in sides])\n",
    "    extra = min(sides)\n",
    "    \n",
    "    return surface_area + extra"
   ]
  },
  {
   "cell_type": "code",
   "execution_count": 3,
   "id": "34f59606-6b20-4860-8f91-940315f6b799",
   "metadata": {
    "tags": []
   },
   "outputs": [],
   "source": [
    "total_paper = 0\n",
    "\n",
    "for present in file:\n",
    "    total_paper += paper_per_present(present)"
   ]
  },
  {
   "cell_type": "code",
   "execution_count": 4,
   "id": "5e8ef3b0-149c-430b-ae27-d6120d7e5c2e",
   "metadata": {},
   "outputs": [
    {
     "data": {
      "text/plain": [
       "1586300.0"
      ]
     },
     "execution_count": 4,
     "metadata": {},
     "output_type": "execute_result"
    }
   ],
   "source": [
    "total_paper"
   ]
  },
  {
   "cell_type": "code",
   "execution_count": 5,
   "id": "93bf4ee3-7f29-4855-8cf0-908f8f83038e",
   "metadata": {},
   "outputs": [],
   "source": [
    "[2, 7, 8].sort()"
   ]
  },
  {
   "cell_type": "code",
   "execution_count": 6,
   "id": "d96f2077-d665-41d0-891f-55c937492cf6",
   "metadata": {},
   "outputs": [],
   "source": [
    "def ribbon_per_present(measure):\n",
    "    \n",
    "    measure = measure.replace(\"\\n\", \"\")\n",
    "    \n",
    "    dims =  [float(i) for i in measure.split(\"x\")]\n",
    "    dims.sort()\n",
    "\n",
    "    \n",
    "    wrap = sum([2 * i for i in dims[:2]])\n",
    "    ribbon = dims[0] * dims[1] * dims[2]\n",
    "    \n",
    "    return ribbon + wrap"
   ]
  },
  {
   "cell_type": "code",
   "execution_count": 7,
   "id": "a7fc541d-bb4b-4544-96d9-8d34bfdb7d3d",
   "metadata": {
    "tags": []
   },
   "outputs": [],
   "source": [
    "total_ribbon = 0\n",
    "\n",
    "for present in file:\n",
    "    total_ribbon += ribbon_per_present(present)"
   ]
  },
  {
   "cell_type": "code",
   "execution_count": 8,
   "id": "4349b787-6ac2-458e-bbee-1ac8f0561e80",
   "metadata": {},
   "outputs": [
    {
     "data": {
      "text/plain": [
       "3737498.0"
      ]
     },
     "execution_count": 8,
     "metadata": {},
     "output_type": "execute_result"
    }
   ],
   "source": [
    "total_ribbon"
   ]
  },
  {
   "cell_type": "code",
   "execution_count": null,
   "id": "4e007f43-3dd5-47a5-8b62-ebee734ce989",
   "metadata": {},
   "outputs": [],
   "source": []
  }
 ],
 "metadata": {
  "kernelspec": {
   "display_name": "Python 3 (ipykernel)",
   "language": "python",
   "name": "python3"
  },
  "language_info": {
   "codemirror_mode": {
    "name": "ipython",
    "version": 3
   },
   "file_extension": ".py",
   "mimetype": "text/x-python",
   "name": "python",
   "nbconvert_exporter": "python",
   "pygments_lexer": "ipython3",
   "version": "3.10.9"
  }
 },
 "nbformat": 4,
 "nbformat_minor": 5
}
